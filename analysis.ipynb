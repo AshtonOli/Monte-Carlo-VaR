{
 "cells": [
  {
   "cell_type": "code",
   "execution_count": null,
   "id": "062669e4",
   "metadata": {},
   "outputs": [],
   "source": [
    "from src.returns_analysis import analyse_returns_characteristics\n",
    "from src.process_selection import process_selection, recommend_process\n",
    "from src.get_data import HistoricalData\n",
    "from src.util import parse_json\n",
    "import pandas as pd\n",
    "import plotly.graph_objects as go"
   ]
  },
  {
   "cell_type": "code",
   "execution_count": 2,
   "id": "82a09d12",
   "metadata": {},
   "outputs": [],
   "source": [
    "# config = parse_json(\"config.json\")\n",
    "\n",
    "# histdata = HistoricalData(config[\"binance\"][\"API_KEY\"], config[\"binance\"][\"API_SECRET\"])\n",
    "# histdata.getKline(\"SOLUSDC\",\"1m\")\n",
    "# histdata.save_data(\"test_data.csv\")"
   ]
  },
  {
   "cell_type": "code",
   "execution_count": 3,
   "id": "6862f6ad",
   "metadata": {},
   "outputs": [
    {
     "data": {
      "text/html": [
       "<div>\n",
       "<style scoped>\n",
       "    .dataframe tbody tr th:only-of-type {\n",
       "        vertical-align: middle;\n",
       "    }\n",
       "\n",
       "    .dataframe tbody tr th {\n",
       "        vertical-align: top;\n",
       "    }\n",
       "\n",
       "    .dataframe thead th {\n",
       "        text-align: right;\n",
       "    }\n",
       "</style>\n",
       "<table border=\"1\" class=\"dataframe\">\n",
       "  <thead>\n",
       "    <tr style=\"text-align: right;\">\n",
       "      <th></th>\n",
       "      <th>opentime</th>\n",
       "      <th>open</th>\n",
       "      <th>high</th>\n",
       "      <th>low</th>\n",
       "      <th>close</th>\n",
       "      <th>volume</th>\n",
       "      <th>closetime</th>\n",
       "      <th>volume.1</th>\n",
       "      <th>log_returns</th>\n",
       "    </tr>\n",
       "  </thead>\n",
       "  <tbody>\n",
       "    <tr>\n",
       "      <th>1</th>\n",
       "      <td>2025-06-27 00:08:00</td>\n",
       "      <td>139.30</td>\n",
       "      <td>139.38</td>\n",
       "      <td>139.28</td>\n",
       "      <td>139.31</td>\n",
       "      <td>216.126</td>\n",
       "      <td>2025-06-27 00:08:59.999</td>\n",
       "      <td>30115.31857</td>\n",
       "      <td>-0.000072</td>\n",
       "    </tr>\n",
       "    <tr>\n",
       "      <th>2</th>\n",
       "      <td>2025-06-27 00:09:00</td>\n",
       "      <td>139.33</td>\n",
       "      <td>139.35</td>\n",
       "      <td>139.25</td>\n",
       "      <td>139.30</td>\n",
       "      <td>11.725</td>\n",
       "      <td>2025-06-27 00:09:59.999</td>\n",
       "      <td>1633.54249</td>\n",
       "      <td>-0.000072</td>\n",
       "    </tr>\n",
       "    <tr>\n",
       "      <th>3</th>\n",
       "      <td>2025-06-27 00:10:00</td>\n",
       "      <td>139.29</td>\n",
       "      <td>139.30</td>\n",
       "      <td>139.23</td>\n",
       "      <td>139.30</td>\n",
       "      <td>55.019</td>\n",
       "      <td>2025-06-27 00:10:59.999</td>\n",
       "      <td>7662.20677</td>\n",
       "      <td>0.000000</td>\n",
       "    </tr>\n",
       "    <tr>\n",
       "      <th>4</th>\n",
       "      <td>2025-06-27 00:11:00</td>\n",
       "      <td>139.32</td>\n",
       "      <td>139.37</td>\n",
       "      <td>139.13</td>\n",
       "      <td>139.18</td>\n",
       "      <td>138.782</td>\n",
       "      <td>2025-06-27 00:11:59.999</td>\n",
       "      <td>19317.96890</td>\n",
       "      <td>-0.000862</td>\n",
       "    </tr>\n",
       "    <tr>\n",
       "      <th>5</th>\n",
       "      <td>2025-06-27 00:12:00</td>\n",
       "      <td>139.19</td>\n",
       "      <td>139.22</td>\n",
       "      <td>139.17</td>\n",
       "      <td>139.19</td>\n",
       "      <td>65.568</td>\n",
       "      <td>2025-06-27 00:12:59.999</td>\n",
       "      <td>9126.37733</td>\n",
       "      <td>0.000072</td>\n",
       "    </tr>\n",
       "  </tbody>\n",
       "</table>\n",
       "</div>"
      ],
      "text/plain": [
       "              opentime    open    high     low   close   volume  \\\n",
       "1  2025-06-27 00:08:00  139.30  139.38  139.28  139.31  216.126   \n",
       "2  2025-06-27 00:09:00  139.33  139.35  139.25  139.30   11.725   \n",
       "3  2025-06-27 00:10:00  139.29  139.30  139.23  139.30   55.019   \n",
       "4  2025-06-27 00:11:00  139.32  139.37  139.13  139.18  138.782   \n",
       "5  2025-06-27 00:12:00  139.19  139.22  139.17  139.19   65.568   \n",
       "\n",
       "                 closetime     volume.1  log_returns  \n",
       "1  2025-06-27 00:08:59.999  30115.31857    -0.000072  \n",
       "2  2025-06-27 00:09:59.999   1633.54249    -0.000072  \n",
       "3  2025-06-27 00:10:59.999   7662.20677     0.000000  \n",
       "4  2025-06-27 00:11:59.999  19317.96890    -0.000862  \n",
       "5  2025-06-27 00:12:59.999   9126.37733     0.000072  "
      ]
     },
     "execution_count": 3,
     "metadata": {},
     "output_type": "execute_result"
    }
   ],
   "source": [
    "df = pd.read_csv(\"test_data.csv\").dropna()\n",
    "df.head()"
   ]
  },
  {
   "cell_type": "code",
   "execution_count": 4,
   "id": "2c568c45",
   "metadata": {},
   "outputs": [
    {
     "name": "stdout",
     "output_type": "stream",
     "text": [
      "BASIC STATS\n",
      "mean : 3.196008531082171e-05\n",
      "std : 0.0008471207457554803\n",
      "skewness : 0.2616138307070276\n",
      "kurtosis : 3.3191552334827312\n",
      "jb_pvalue : 8.859698042676258e-103\n",
      "min : -0.0044274291374359\n",
      "max : 0.0054039205913282\n"
     ]
    },
    {
     "data": {
      "image/png": "[encoded data removed]",
      "text/plain": [
       "<Figure size 640x480 with 1 Axes>"
      ]
     },
     "metadata": {},
     "output_type": "display_data"
    }
   ],
   "source": [
    "stats_summary = analyse_returns_characteristics(df,\"results.html\")"
   ]
  },
  {
   "cell_type": "code",
   "execution_count": null,
   "id": "566ae258",
   "metadata": {},
   "outputs": [
    {
     "data": {
      "text/plain": [
       "{'Jarque-Bera': {'p-value': np.float64(8.859698042676258e-103),\n",
       "  'Conclusion': 'Non-normal'},\n",
       " 'Shapiro-Wilks': {'p-value': np.float64(2.5450706066863636e-14),\n",
       "  'Conclusion': 'Non-normal'},\n",
       " 'Hetson-Arch': {'p-value': np.float64(0.0003331641215401325),\n",
       "  'Conclusion': 'Present'},\n",
       " 'Jumps': {'frequency': 0.05105105105105105, 'Conclusion': 'Significant'},\n",
       " 'ADF': {'p-value': 0.0, 'Conclusion': 'Mean-reverting'},\n",
       " 'Autocorrelation': {'p-value': np.float64(0.6636959982263511),\n",
       "  'Conclusion': 'Absent'}}"
      ]
     },
     "execution_count": 5,
     "metadata": {},
     "output_type": "execute_result"
    }
   ],
   "source": [
    "test_results = process_selection(df)"
   ]
  },
  {
   "cell_type": "code",
   "execution_count": null,
   "id": "965e0c6a",
   "metadata": {},
   "outputs": [],
   "source": []
  }
 ],
 "metadata": {
  "kernelspec": {
   "display_name": "venv",
   "language": "python",
   "name": "python3"
  },
  "language_info": {
   "codemirror_mode": {
    "name": "ipython",
    "version": 3
   },
   "file_extension": ".py",
   "mimetype": "text/x-python",
   "name": "python",
   "nbconvert_exporter": "python",
   "pygments_lexer": "ipython3",
   "version": "3.13.5"
  }
 },
 "nbformat": 4,
 "nbformat_minor": 5
}
